{
 "cells": [
  {
   "cell_type": "code",
   "execution_count": 1,
   "id": "7ca29ad8",
   "metadata": {},
   "outputs": [],
   "source": [
    "import os\n",
    "from glob import glob\n",
    "\n",
    "root = \"/home/j-j10b102/166.약품식별_인공지능_개발을_위한_경구약제_이미지_데이터/01.데이터/1.Training/라벨링데이터/단일경구약제_5000종\""
   ]
  },
  {
   "cell_type": "code",
   "execution_count": 2,
   "id": "46cedd24",
   "metadata": {},
   "outputs": [
    {
     "name": "stdout",
     "output_type": "stream",
     "text": [
      "/home/j-j10b102/166.약품식별_인공지능_개발을_위한_경구약제_이미지_데이터/01.데이터/1.Training/라벨링데이터/단일경구약제_5000종/TL_42_단일/K-014967_json/K-014967_0_2_1_0_90_340_200.json\n"
     ]
    }
   ],
   "source": [
    "\n",
    "print(glob(root+\"/**/**/*\")[0])\n",
    "json_files = []\n",
    "for json_file in glob(root+\"/**/**/*\"):\n",
    "#     print(folder)\n",
    "    json_files.append(json_file)"
   ]
  },
  {
   "cell_type": "code",
   "execution_count": 3,
   "id": "9145b6c3",
   "metadata": {},
   "outputs": [
    {
     "data": {
      "text/plain": [
       "2387127"
      ]
     },
     "execution_count": 3,
     "metadata": {},
     "output_type": "execute_result"
    }
   ],
   "source": [
    "len(json_files)"
   ]
  },
  {
   "cell_type": "code",
   "execution_count": 4,
   "id": "20067a9e",
   "metadata": {},
   "outputs": [
    {
     "data": {
      "text/plain": [
       "'TL_42_단일'"
      ]
     },
     "execution_count": 4,
     "metadata": {},
     "output_type": "execute_result"
    }
   ],
   "source": [
    "temp = json_files[0]\n",
    "temp.split(\"/\")[8]"
   ]
  },
  {
   "cell_type": "code",
   "execution_count": 5,
   "id": "0f4aa709",
   "metadata": {},
   "outputs": [
    {
     "name": "stdout",
     "output_type": "stream",
     "text": [
      "200402063 ,  K-014967 , 맥코이정 170mg/병\n",
      "{'200402063': ['K-014967', '맥코이정 170mg/병', 'TL_42_단일', [{'area': 121017, 'iscrowd': 0, 'bbox': [310, 480, 377, 321], 'category_id': 1, 'ignore': 0, 'segmentation': [], 'id': 1, 'image_id': 1}]]}\n"
     ]
    },
    {
     "data": {
      "text/plain": [
       "{'images': [{'file_name': 'K-014967_0_2_1_0_90_340_200.png',\n",
       "   'width': 976,\n",
       "   'height': 1280,\n",
       "   'imgfile': 'K-014967_0_2_1_0_90_340_200.png',\n",
       "   'drug_N': 'K-014967',\n",
       "   'drug_S': '정상알약',\n",
       "   'back_color': '연회색 배경',\n",
       "   'drug_dir': '뒷면',\n",
       "   'light_color': '전구색',\n",
       "   'camera_la': 90,\n",
       "   'camera_lo': 340,\n",
       "   'size': 200,\n",
       "   'item_seq': '200402063',\n",
       "   'leng_long': '15.5',\n",
       "   'leng_short': '9.5',\n",
       "   'thick': '6.3',\n",
       "   'id': 1,\n",
       "   'dl_idx': '14966',\n",
       "   'dl_mapping_code': 'K-014967',\n",
       "   'dl_name': '맥코이정 170mg/병',\n",
       "   'dl_name_en': 'Mackoy Tab.',\n",
       "   'img_key': 'http://connectdi.com/design/img/drug/147428307461400007.jpg',\n",
       "   'dl_material': '판크레아틴|시메티콘',\n",
       "   'dl_material_en': 'Pancreatin| Simethicone',\n",
       "   'dl_custom_shape': '장용정제',\n",
       "   'dl_company': '오스틴제약(주)',\n",
       "   'dl_company_en': 'Austin Pharm',\n",
       "   'di_company_mf': '',\n",
       "   'di_company_mf_en': '',\n",
       "   'di_item_permit_date': '20040723',\n",
       "   'di_class_no': '[02330]건위소화제',\n",
       "   'di_etc_otc_code': '일반의약품',\n",
       "   'di_edi_code': '654300940',\n",
       "   'chart': '백색의 장방형 장용성 당의정',\n",
       "   'drug_shape': '장방형',\n",
       "   'print_front': 'WAL33',\n",
       "   'print_back': '',\n",
       "   'color_class1': '하양',\n",
       "   'color_class2': '',\n",
       "   'line_front': '',\n",
       "   'line_back': '',\n",
       "   'img_regist_ts': '20080213',\n",
       "   'form_code_name': '장용성당의정',\n",
       "   'mark_code_front_anal': '',\n",
       "   'mark_code_back_anal': '',\n",
       "   'mark_code_front_img': '',\n",
       "   'mark_code_back_img': '',\n",
       "   'mark_code_front': '',\n",
       "   'mark_code_back': '',\n",
       "   'change_date': '20151217'}],\n",
       " 'type': 'instances',\n",
       " 'annotations': [{'area': 121017,\n",
       "   'iscrowd': 0,\n",
       "   'bbox': [310, 480, 377, 321],\n",
       "   'category_id': 1,\n",
       "   'ignore': 0,\n",
       "   'segmentation': [],\n",
       "   'id': 1,\n",
       "   'image_id': 1}],\n",
       " 'categories': [{'supercategory': 'pill', 'id': 1, 'name': 'Drug'}]}"
      ]
     },
     "execution_count": 5,
     "metadata": {},
     "output_type": "execute_result"
    }
   ],
   "source": [
    "import json\n",
    "json_dict = {}\n",
    "with open(temp, 'r') as f:\n",
    "    data = json.load(f)\n",
    "print(data[\"images\"][0][\"item_seq\"], \", \", data[\"images\"][0][\"drug_N\"],\",\",data[\"images\"][0][\"dl_name\"])\n",
    "data[\"images\"][0]\n",
    "json_dict[data[\"images\"][0][\"item_seq\"]] = [data[\"images\"][0][\"drug_N\"], data[\"images\"][0][\"dl_name\"], temp.split(\"/\")[8], data[\"annotations\"]]\n",
    "print(json_dict)\n",
    "data\n"
   ]
  },
  {
   "cell_type": "code",
   "execution_count": 8,
   "id": "100e57e4",
   "metadata": {},
   "outputs": [
    {
     "data": {
      "text/plain": [
       "['K-014967', '맥코이정 170mg/병', 'TS_42_단일']"
      ]
     },
     "execution_count": 8,
     "metadata": {},
     "output_type": "execute_result"
    }
   ],
   "source": [
    "json_dict = {}\n",
    "for json_file in json_files:\n",
    "    with open(json_file,'r') as f:\n",
    "        data = json.load(f)\n",
    "    group = json_file.split(\"/\")[8]\n",
    "    group = group.split(\"_\")\n",
    "\n",
    "    group[0] = \"TS\"\n",
    "    group = \"_\".join(group)\n",
    "#     print(group)\n",
    "    json_dict[str(data[\"images\"][0][\"item_seq\"])] = [data[\"images\"][0][\"drug_N\"], data[\"images\"][0][\"dl_name\"], group]\n",
    "    \n",
    "json_dict[\"200402063\"]"
   ]
  },
  {
   "cell_type": "code",
   "execution_count": 9,
   "id": "d04b51d8",
   "metadata": {},
   "outputs": [],
   "source": [
    "import pickle"
   ]
  },
  {
   "cell_type": "code",
   "execution_count": 10,
   "id": "31660df9",
   "metadata": {},
   "outputs": [],
   "source": [
    "with open(\"json_dict.pkl\", \"wb\") as f:\n",
    "    pickle.dump(json_dict, f)"
   ]
  },
  {
   "cell_type": "code",
   "execution_count": 11,
   "id": "6352c180",
   "metadata": {},
   "outputs": [
    {
     "data": {
      "text/plain": [
       "3970"
      ]
     },
     "execution_count": 11,
     "metadata": {},
     "output_type": "execute_result"
    }
   ],
   "source": [
    "len(json_dict)"
   ]
  },
  {
   "cell_type": "code",
   "execution_count": 12,
   "id": "9e369150",
   "metadata": {},
   "outputs": [
    {
     "data": {
      "text/plain": [
       "['K-014967', '맥코이정 170mg/병', 'TS_42_단일']"
      ]
     },
     "execution_count": 12,
     "metadata": {},
     "output_type": "execute_result"
    }
   ],
   "source": [
    "\n",
    "with open(\"json_dict.pkl\", \"rb\") as f:\n",
    "    load_data = pickle.load(f)\n",
    "    \n",
    "load_data[\"200402063\"]"
   ]
  },
  {
   "cell_type": "code",
   "execution_count": 13,
   "id": "0d5dc4d6",
   "metadata": {},
   "outputs": [
    {
     "data": {
      "text/plain": [
       "2387127"
      ]
     },
     "execution_count": 13,
     "metadata": {},
     "output_type": "execute_result"
    }
   ],
   "source": [
    "len(json_files)"
   ]
  },
  {
   "cell_type": "code",
   "execution_count": 42,
   "id": "a7da0714",
   "metadata": {},
   "outputs": [
    {
     "name": "stdout",
     "output_type": "stream",
     "text": [
      "/home/j-j10b102/all_json/K-014967_0_2_1_0_90_340_200.json\n",
      "K-014967_0_2_1_0_90_340_200.json\n"
     ]
    }
   ],
   "source": [
    "# json_files[0].split(\"/\")[-1]\n",
    "# with open(json_files[0], \"rb\") as f:\n",
    "#     data = f.read()\n",
    "    \n",
    "# current_directory = os.getcwd()\n",
    "# current_directory\n",
    "# cp_path = current_directory +\"/all_json/\" + json_files[0].split(\"/\")[-1]\n",
    "# print(cp_path)\n",
    "# print(json_files[0].split(\"/\")[-1])\n",
    "\n",
    "# with open(cp_path, \"wb\" )  as f:\n",
    "#     f.write(data)"
   ]
  },
  {
   "cell_type": "code",
   "execution_count": 43,
   "id": "f56eec95",
   "metadata": {},
   "outputs": [],
   "source": [
    "# for json_file in json_files:\n",
    "#     filename = json_file.split(\"/\")[-1]\n",
    "    \n",
    "#     with open(json_file, \"rb\") as f:\n",
    "#         data = f.read()\n",
    "#     cp_path = current_directory +\"/all_json/\" + filename\n",
    "    \n",
    "#     with open(cp_path, \"wb\") as f:\n",
    "#         f.write(data)"
   ]
  },
  {
   "cell_type": "code",
   "execution_count": 32,
   "id": "aa7b34d0",
   "metadata": {},
   "outputs": [
    {
     "name": "stdout",
     "output_type": "stream",
     "text": [
      "200202755 ['K-012192', '에스프로펜정(덱시부프로펜)', 'TL_7_단일']\n",
      "200201695 ['K-011942', '맥스펜정(덱시부프로펜디.씨)', 'TL_7_단일']\n",
      "200100323 ['K-010366', '팍스정(덱시부프로펜)', 'TL_5_단일']\n",
      "200202148 ['K-012071', '그리펜-에스정(덱시부프로펜)', 'TL_37_단일']\n",
      "201908438 ['K-049905', '덱시파인정(덱시부프로펜)\\xa0', 'TL_20_단일']\n",
      "200709011 ['K-021985', '이프렌-에스정(덱시부프로펜디.씨.)', 'TL_52_단일']\n",
      "200400485 ['K-014267', '이지엔6프로연질캡슐(덱시부프로펜)(수출명:DAUFENSoftCapsuleSPEEDFEN)', 'TL_40_단일']\n",
      "200103343 ['K-011064', '팬스타정(덱시부프로펜디.씨)', 'TL_6_단일']\n",
      "200100960 ['K-010538', '펜타우드정(덱시부프로펜)', 'TL_6_단일']\n",
      "200103882 ['K-011154', '프리메정(덱시부프로펜디.씨)', 'TL_6_단일']\n"
     ]
    }
   ],
   "source": [
    "for key, value in json_dict.items():\n",
    "#     print(key, value[1])\n",
    "    if \"덱시부프로펜\" in value[1] :\n",
    "        print(key, value)"
   ]
  },
  {
   "cell_type": "code",
   "execution_count": null,
   "id": "9c48a374",
   "metadata": {},
   "outputs": [],
   "source": []
  }
 ],
 "metadata": {
  "kernelspec": {
   "display_name": "torch",
   "language": "python",
   "name": "torch"
  },
  "language_info": {
   "codemirror_mode": {
    "name": "ipython",
    "version": 3
   },
   "file_extension": ".py",
   "mimetype": "text/x-python",
   "name": "python",
   "nbconvert_exporter": "python",
   "pygments_lexer": "ipython3",
   "version": "3.9.18"
  }
 },
 "nbformat": 4,
 "nbformat_minor": 5
}
