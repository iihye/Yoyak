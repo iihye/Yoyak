{
 "cells": [
  {
   "cell_type": "code",
   "execution_count": 2,
   "id": "7dea6dd7",
   "metadata": {},
   "outputs": [],
   "source": [
    "import pickle\n",
    "import os\n",
    "root = \"/home/j-j10b102/166.약품식별_인공지능_개발을_위한_경구약제_이미지_데이터/01.데이터/1.Training/원천데이터/단일경구약제_5000종/\"    "
   ]
  },
  {
   "cell_type": "code",
   "execution_count": 3,
   "id": "5f284fb3",
   "metadata": {},
   "outputs": [],
   "source": [
    "def download(item_seq):\n",
    "    \n",
    "    with open(\"zipfile2filekey.pkl\", \"rb\") as f:\n",
    "        zipfile2key = pickle.load(f)\n",
    "    \n",
    "    with open(\"json_dict.pkl\", \"rb\") as f:\n",
    "        json_dict = pickle.load(f)\n",
    "\n",
    "    print(json_dict[item_seq])\n",
    "    drug_n = json_dict[item_seq][0]\n",
    "    group = json_dict[item_seq][-1]\n",
    "\n",
    "    zipfile_name = group+\".zip\"\n",
    "    filekey = zipfile2key[zipfile_name]\n",
    "    operation = f\"./aihubshell -mode d -datasetkey 576 -filekey {filekey}\"\n",
    "    print(operation)\n",
    "    \n",
    "    operation = f'unzip -q {root+zipfile_name} \"{drug_n}/*\" -d {root+group}/'\n",
    "    print(operation)\n",
    "    print(\"-------\")\n",
    "        "
   ]
  },
  {
   "cell_type": "code",
   "execution_count": 5,
   "id": "f3c75491",
   "metadata": {},
   "outputs": [
    {
     "name": "stdout",
     "output_type": "stream",
     "text": [
      "['K-007024', '훼스탈플러스정 315mg/PTP', 'TS_4_단일']\n",
      "./aihubshell -mode d -datasetkey 576 -filekey 66205\n",
      "unzip -q /home/j-j10b102/166.약품식별_인공지능_개발을_위한_경구약제_이미지_데이터/01.데이터/1.Training/원천데이터/단일경구약제_5000종/TS_4_단일.zip \"K-007024/*\" -d /home/j-j10b102/166.약품식별_인공지능_개발을_위한_경구약제_이미지_데이터/01.데이터/1.Training/원천데이터/단일경구약제_5000종/TS_4_단일/\n",
      "-------\n"
     ]
    }
   ],
   "source": [
    "item_list = [\"199801026\" ]\n",
    "\n",
    "for item_seq in item_list:\n",
    "    download(item_seq)"
   ]
  },
  {
   "cell_type": "code",
   "execution_count": null,
   "id": "01e440be",
   "metadata": {},
   "outputs": [],
   "source": [
    "item_list = []"
   ]
  },
  {
   "cell_type": "code",
   "execution_count": 6,
   "id": "b6b0b77b",
   "metadata": {},
   "outputs": [
    {
     "data": {
      "text/plain": [
       "\"unzip -qq TS_4_단일.zip 'K-007024/*' -d TS_4_단일/\""
      ]
     },
     "execution_count": 6,
     "metadata": {},
     "output_type": "execute_result"
    }
   ],
   "source": [
    "operation = \"unzip -qq TS_4_단일.zip 'K-007024/*' -d TS_4_단일/\"\n",
    "operation"
   ]
  },
  {
   "cell_type": "code",
   "execution_count": 9,
   "id": "28fb17c4",
   "metadata": {},
   "outputs": [
    {
     "name": "stderr",
     "output_type": "stream",
     "text": [
      "sh: 1: Syntax error: Unterminated quoted string\n"
     ]
    },
    {
     "data": {
      "text/plain": [
       "512"
      ]
     },
     "execution_count": 9,
     "metadata": {},
     "output_type": "execute_result"
    }
   ],
   "source": [
    "os.system(operation)"
   ]
  },
  {
   "cell_type": "code",
   "execution_count": 66,
   "id": "fe4de7fa",
   "metadata": {},
   "outputs": [
    {
     "data": {
      "text/plain": [
       "'/home/j-j10b102'"
      ]
     },
     "execution_count": 66,
     "metadata": {},
     "output_type": "execute_result"
    }
   ],
   "source": [
    "os.getcwd()"
   ]
  },
  {
   "cell_type": "code",
   "execution_count": null,
   "id": "32c2cd1d",
   "metadata": {},
   "outputs": [],
   "source": []
  }
 ],
 "metadata": {
  "kernelspec": {
   "display_name": "torch",
   "language": "python",
   "name": "torch"
  },
  "language_info": {
   "codemirror_mode": {
    "name": "ipython",
    "version": 3
   },
   "file_extension": ".py",
   "mimetype": "text/x-python",
   "name": "python",
   "nbconvert_exporter": "python",
   "pygments_lexer": "ipython3",
   "version": "3.9.18"
  }
 },
 "nbformat": 4,
 "nbformat_minor": 5
}
