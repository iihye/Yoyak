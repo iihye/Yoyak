{
 "cells": [
  {
   "cell_type": "code",
   "execution_count": 1,
   "id": "985b4eb5",
   "metadata": {},
   "outputs": [],
   "source": [
    "import os\n",
    "from glob import glob\n",
    "import pandas as pd\n",
    "import json"
   ]
  },
  {
   "cell_type": "code",
   "execution_count": 2,
   "id": "2a49d8af",
   "metadata": {},
   "outputs": [
    {
     "data": {
      "text/plain": [
       "'/home/j-j10b102/166.약품식별_인공지능_개발을_위한_경구약제_이미지_데이터/01.데이터/1.Training/라벨링데이터/단일경구약제_5000종'"
      ]
     },
     "execution_count": 2,
     "metadata": {},
     "output_type": "execute_result"
    }
   ],
   "source": [
    "root = \"/home/j-j10b102/166.약품식별_인공지능_개발을_위한_경구약제_이미지_데이터/01.데이터/1.Training/라벨링데이터/단일경구약제_5000종\"\n",
    "root"
   ]
  },
  {
   "cell_type": "code",
   "execution_count": 3,
   "id": "8e18f888",
   "metadata": {},
   "outputs": [
    {
     "data": {
      "text/html": [
       "<div>\n",
       "<style scoped>\n",
       "    .dataframe tbody tr th:only-of-type {\n",
       "        vertical-align: middle;\n",
       "    }\n",
       "\n",
       "    .dataframe tbody tr th {\n",
       "        vertical-align: top;\n",
       "    }\n",
       "\n",
       "    .dataframe thead th {\n",
       "        text-align: right;\n",
       "    }\n",
       "</style>\n",
       "<table border=\"1\" class=\"dataframe\">\n",
       "  <thead>\n",
       "    <tr style=\"text-align: right;\">\n",
       "      <th></th>\n",
       "      <th>item_seq</th>\n",
       "      <th>idx</th>\n",
       "      <th>drug_n</th>\n",
       "      <th>name</th>\n",
       "      <th>group</th>\n",
       "    </tr>\n",
       "  </thead>\n",
       "  <tbody>\n",
       "    <tr>\n",
       "      <th>0</th>\n",
       "      <td>200402063</td>\n",
       "      <td>0</td>\n",
       "      <td>K-014967</td>\n",
       "      <td>맥코이정 170mg/병</td>\n",
       "      <td>TS_42_단일</td>\n",
       "    </tr>\n",
       "    <tr>\n",
       "      <th>1</th>\n",
       "      <td>200401786</td>\n",
       "      <td>1</td>\n",
       "      <td>K-014870</td>\n",
       "      <td>액시딘캡슐</td>\n",
       "      <td>TS_42_단일</td>\n",
       "    </tr>\n",
       "    <tr>\n",
       "      <th>2</th>\n",
       "      <td>200402637</td>\n",
       "      <td>2</td>\n",
       "      <td>K-015266</td>\n",
       "      <td>아모디핀정 5mg</td>\n",
       "      <td>TS_42_단일</td>\n",
       "    </tr>\n",
       "    <tr>\n",
       "      <th>3</th>\n",
       "      <td>200402487</td>\n",
       "      <td>3</td>\n",
       "      <td>K-015211</td>\n",
       "      <td>록소론정</td>\n",
       "      <td>TS_42_단일</td>\n",
       "    </tr>\n",
       "    <tr>\n",
       "      <th>4</th>\n",
       "      <td>200402643</td>\n",
       "      <td>4</td>\n",
       "      <td>K-015269</td>\n",
       "      <td>록소드펜정</td>\n",
       "      <td>TS_42_단일</td>\n",
       "    </tr>\n",
       "    <tr>\n",
       "      <th>...</th>\n",
       "      <td>...</td>\n",
       "      <td>...</td>\n",
       "      <td>...</td>\n",
       "      <td>...</td>\n",
       "      <td>...</td>\n",
       "    </tr>\n",
       "    <tr>\n",
       "      <th>3965</th>\n",
       "      <td>200500225</td>\n",
       "      <td>3965</td>\n",
       "      <td>K-016531</td>\n",
       "      <td>카비엑스엘서방정</td>\n",
       "      <td>TS_45_단일</td>\n",
       "    </tr>\n",
       "    <tr>\n",
       "      <th>3966</th>\n",
       "      <td>200500578</td>\n",
       "      <td>3966</td>\n",
       "      <td>K-016742</td>\n",
       "      <td>자나디핀정(레르카니디핀염산염)</td>\n",
       "      <td>TS_45_단일</td>\n",
       "    </tr>\n",
       "    <tr>\n",
       "      <th>3967</th>\n",
       "      <td>200500288</td>\n",
       "      <td>3967</td>\n",
       "      <td>K-016567</td>\n",
       "      <td>리바로정 2mg</td>\n",
       "      <td>TS_45_단일</td>\n",
       "    </tr>\n",
       "    <tr>\n",
       "      <th>3968</th>\n",
       "      <td>200500676</td>\n",
       "      <td>3968</td>\n",
       "      <td>K-016790</td>\n",
       "      <td>암로딘정</td>\n",
       "      <td>TS_45_단일</td>\n",
       "    </tr>\n",
       "    <tr>\n",
       "      <th>3969</th>\n",
       "      <td>200500565</td>\n",
       "      <td>3969</td>\n",
       "      <td>K-016731</td>\n",
       "      <td>로자살탄정 50mg</td>\n",
       "      <td>TS_45_단일</td>\n",
       "    </tr>\n",
       "  </tbody>\n",
       "</table>\n",
       "<p>3970 rows × 5 columns</p>\n",
       "</div>"
      ],
      "text/plain": [
       "       item_seq   idx    drug_n              name     group\n",
       "0     200402063     0  K-014967      맥코이정 170mg/병  TS_42_단일\n",
       "1     200401786     1  K-014870             액시딘캡슐  TS_42_단일\n",
       "2     200402637     2  K-015266         아모디핀정 5mg  TS_42_단일\n",
       "3     200402487     3  K-015211              록소론정  TS_42_단일\n",
       "4     200402643     4  K-015269             록소드펜정  TS_42_단일\n",
       "...         ...   ...       ...               ...       ...\n",
       "3965  200500225  3965  K-016531          카비엑스엘서방정  TS_45_단일\n",
       "3966  200500578  3966  K-016742  자나디핀정(레르카니디핀염산염)  TS_45_단일\n",
       "3967  200500288  3967  K-016567          리바로정 2mg  TS_45_단일\n",
       "3968  200500676  3968  K-016790              암로딘정  TS_45_단일\n",
       "3969  200500565  3969  K-016731        로자살탄정 50mg  TS_45_단일\n",
       "\n",
       "[3970 rows x 5 columns]"
      ]
     },
     "execution_count": 3,
     "metadata": {},
     "output_type": "execute_result"
    }
   ],
   "source": [
    "df = pd.read_csv(\"./code2idx.csv\")\n",
    "df"
   ]
  },
  {
   "cell_type": "code",
   "execution_count": 4,
   "id": "c478089c",
   "metadata": {},
   "outputs": [
    {
     "name": "stdout",
     "output_type": "stream",
     "text": [
      "       item_seq   idx    drug_n        name\n",
      "2515  199303108  2515  K-004378  타이레놀정500mg\n",
      "      item_seq  idx    drug_n          name\n",
      "423  200704590  423  K-021026  펠루비정(펠루비프로펜)\n",
      "       item_seq   idx    drug_n  \\\n",
      "2659  200400485  2659  K-014267   \n",
      "\n",
      "                                                   name  \n",
      "2659  이지엔6프로연질캡슐(덱시부프로펜)(수출명:DAUFENSoftCapsuleSPEEDFEN)  \n"
     ]
    }
   ],
   "source": [
    "item_codes = [199303108,200704590,200400485]\n",
    "for code in item_codes:\n",
    "    print(df[df[\"item_seq\"] == code])"
   ]
  },
  {
   "cell_type": "code",
   "execution_count": null,
   "id": "fec04356",
   "metadata": {},
   "outputs": [],
   "source": []
  },
  {
   "cell_type": "code",
   "execution_count": null,
   "id": "c924cb38",
   "metadata": {},
   "outputs": [],
   "source": []
  },
  {
   "cell_type": "code",
   "execution_count": null,
   "id": "fc2655fb",
   "metadata": {},
   "outputs": [],
   "source": []
  },
  {
   "cell_type": "code",
   "execution_count": 5,
   "id": "12eca175",
   "metadata": {},
   "outputs": [
    {
     "data": {
      "text/plain": [
       "{'images': [{'file_name': 'K-004378_0_2_0_0_70_120_200.png',\n",
       "   'width': 976,\n",
       "   'height': 1280,\n",
       "   'imgfile': 'K-004378_0_2_0_0_70_120_200.png',\n",
       "   'drug_N': 'K-004378',\n",
       "   'drug_S': '정상알약',\n",
       "   'back_color': '연회색 배경',\n",
       "   'drug_dir': '앞면',\n",
       "   'light_color': '전구색',\n",
       "   'camera_la': 70,\n",
       "   'camera_lo': 120,\n",
       "   'size': 200,\n",
       "   'dl_idx': '4377',\n",
       "   'dl_mapping_code': 'K-004378',\n",
       "   'dl_name': '타이레놀정500mg',\n",
       "   'dl_name_en': 'Tylenol Tab. 500mg',\n",
       "   'img_key': 'http://connectdi.com/design/img/drug/147427630838400132.jpg',\n",
       "   'dl_material': '아세트아미노펜',\n",
       "   'dl_material_en': 'Acetaminophen',\n",
       "   'dl_custom_shape': '정제, 저작정',\n",
       "   'dl_company': '(주)한국얀센',\n",
       "   'dl_company_en': 'Janssen Korea',\n",
       "   'di_company_mf': '',\n",
       "   'di_company_mf_en': '',\n",
       "   'item_seq': 199303108,\n",
       "   'di_item_permit_date': '20010404',\n",
       "   'di_class_no': '[01140]해열.진통.소염제',\n",
       "   'di_etc_otc_code': '일반의약품',\n",
       "   'di_edi_code': '646900720',\n",
       "   'chart': '백색의 장방형 필름코팅정제',\n",
       "   'drug_shape': '장방형',\n",
       "   'thick': 6.5,\n",
       "   'leng_long': 17.5,\n",
       "   'leng_short': 7.2,\n",
       "   'print_front': 'TYLENOL',\n",
       "   'print_back': '500',\n",
       "   'color_class1': '하양',\n",
       "   'color_class2': '',\n",
       "   'line_front': '',\n",
       "   'line_back': '',\n",
       "   'img_regist_ts': '20041222',\n",
       "   'form_code_name': '필름코팅정',\n",
       "   'mark_code_front_anal': '',\n",
       "   'mark_code_back_anal': '',\n",
       "   'mark_code_front_img': '',\n",
       "   'mark_code_back_img': '',\n",
       "   'mark_code_front': '',\n",
       "   'mark_code_back': '',\n",
       "   'change_date': '20200113',\n",
       "   'id': 1}],\n",
       " 'type': 'instances',\n",
       " 'annotations': [{'area': 103250,\n",
       "   'iscrowd': 0,\n",
       "   'bbox': [354, 441, 250, 413],\n",
       "   'category_id': 1,\n",
       "   'ignore': 0,\n",
       "   'segmentation': [],\n",
       "   'id': 1,\n",
       "   'image_id': 1}],\n",
       " 'categories': [{'supercategory': 'pill', 'id': 1, 'name': 'Drug'}]}"
      ]
     },
     "execution_count": 5,
     "metadata": {},
     "output_type": "execute_result"
    }
   ],
   "source": [
    "tl_folders = {\"TL_3_단일\" : \"K-004378_json\", \"TL_51_단일\" : \"K-021026_json\", \"TL_40_단일\" : \"K-014267_json\"}\n",
    "\n",
    "path = root+f\"/TL_3_단일/K-004378_json\"\n",
    "json_file = glob(path+\"/*.json\")[0]\n",
    "\n",
    "with open(json_file, \"rb\") as f:\n",
    "    data = json.load(f)\n",
    "    \n",
    "data"
   ]
  },
  {
   "cell_type": "code",
   "execution_count": 6,
   "id": "110e94c8",
   "metadata": {},
   "outputs": [],
   "source": [
    "code = data[\"images\"][0][\"item_seq\"]\n"
   ]
  },
  {
   "cell_type": "code",
   "execution_count": 7,
   "id": "a9b5b757",
   "metadata": {},
   "outputs": [
    {
     "data": {
      "text/html": [
       "<div>\n",
       "<style scoped>\n",
       "    .dataframe tbody tr th:only-of-type {\n",
       "        vertical-align: middle;\n",
       "    }\n",
       "\n",
       "    .dataframe tbody tr th {\n",
       "        vertical-align: top;\n",
       "    }\n",
       "\n",
       "    .dataframe thead th {\n",
       "        text-align: right;\n",
       "    }\n",
       "</style>\n",
       "<table border=\"1\" class=\"dataframe\">\n",
       "  <thead>\n",
       "    <tr style=\"text-align: right;\">\n",
       "      <th></th>\n",
       "      <th>item_seq</th>\n",
       "      <th>idx</th>\n",
       "      <th>drug_n</th>\n",
       "      <th>name</th>\n",
       "    </tr>\n",
       "  </thead>\n",
       "  <tbody>\n",
       "    <tr>\n",
       "      <th>2515</th>\n",
       "      <td>199303108</td>\n",
       "      <td>2515</td>\n",
       "      <td>K-004378</td>\n",
       "      <td>타이레놀정500mg</td>\n",
       "    </tr>\n",
       "  </tbody>\n",
       "</table>\n",
       "</div>"
      ],
      "text/plain": [
       "       item_seq   idx    drug_n        name\n",
       "2515  199303108  2515  K-004378  타이레놀정500mg"
      ]
     },
     "execution_count": 7,
     "metadata": {},
     "output_type": "execute_result"
    }
   ],
   "source": [
    "df[df[\"item_seq\"] == code]"
   ]
  },
  {
   "cell_type": "code",
   "execution_count": 8,
   "id": "7027adbd",
   "metadata": {},
   "outputs": [
    {
     "data": {
      "text/plain": [
       "2515"
      ]
     },
     "execution_count": 8,
     "metadata": {},
     "output_type": "execute_result"
    }
   ],
   "source": [
    "idx = df[df[\"item_seq\"] == code][\"idx\"].iloc[0]\n",
    "idx"
   ]
  },
  {
   "cell_type": "code",
   "execution_count": 9,
   "id": "33417bcb",
   "metadata": {},
   "outputs": [
    {
     "data": {
      "text/plain": [
       "1280"
      ]
     },
     "execution_count": 9,
     "metadata": {},
     "output_type": "execute_result"
    }
   ],
   "source": [
    "height = data[\"images\"][0][\"height\"]\n",
    "height"
   ]
  },
  {
   "cell_type": "code",
   "execution_count": 10,
   "id": "bf0bc1af",
   "metadata": {},
   "outputs": [
    {
     "data": {
      "text/plain": [
       "976"
      ]
     },
     "execution_count": 10,
     "metadata": {},
     "output_type": "execute_result"
    }
   ],
   "source": [
    "width = data[\"images\"][0][\"width\"]\n",
    "width"
   ]
  },
  {
   "cell_type": "code",
   "execution_count": 11,
   "id": "39b13634",
   "metadata": {},
   "outputs": [
    {
     "data": {
      "text/plain": [
       "[354, 441, 250, 413]"
      ]
     },
     "execution_count": 11,
     "metadata": {},
     "output_type": "execute_result"
    }
   ],
   "source": [
    "data[\"annotations\"][0][\"bbox\"]"
   ]
  },
  {
   "cell_type": "code",
   "execution_count": 12,
   "id": "05b10785",
   "metadata": {},
   "outputs": [],
   "source": [
    "# yolo 포맷은 객체의 중심좌표와 너비, 높이를 이미지의 너비와 높이로 정규화한 값을 사용\n",
    "# 좌상단좌표(x,y)와 너비, 높이 정보를 가지고 Yolo포맷으로 바꾸는 파이썬 코드\n",
    "\n",
    "def convert_to_yolo(x, y, width, height, image_width, image_height):\n",
    "    # 객체의 중심 좌표 계산\n",
    "    center_x = x + width / 2\n",
    "    center_y = y + height / 2\n",
    "    \n",
    "    # 좌표와 너비, 높이를 이미지 크기로 정규화\n",
    "    normalized_center_x = center_x / image_width\n",
    "    normalized_center_y = center_y / image_height\n",
    "    normalized_width = width / image_width\n",
    "    normalized_height = height / image_height\n",
    "    \n",
    "    # Yolo 포맷으로 변환된 값을 반환\n",
    "    return normalized_center_x, normalized_center_y, normalized_width, normalized_height"
   ]
  },
  {
   "cell_type": "code",
   "execution_count": 13,
   "id": "400a8727",
   "metadata": {},
   "outputs": [],
   "source": [
    "x,y,w,h = data[\"annotations\"][0][\"bbox\"]\n",
    "\n",
    "center_x, center_y, normalized_w, normalized_h = convert_to_yolo(x,y,w,h,width,height)"
   ]
  },
  {
   "cell_type": "code",
   "execution_count": 14,
   "id": "c57e32da",
   "metadata": {},
   "outputs": [
    {
     "data": {
      "text/plain": [
       "0.49077868852459017"
      ]
     },
     "execution_count": 14,
     "metadata": {},
     "output_type": "execute_result"
    }
   ],
   "source": [
    "center_x"
   ]
  },
  {
   "cell_type": "code",
   "execution_count": 15,
   "id": "b10671e8",
   "metadata": {},
   "outputs": [
    {
     "name": "stdout",
     "output_type": "stream",
     "text": [
      "K-004378_0_2_0_0_70_120_200.png\n",
      "/home/j-j10b102/labels\n"
     ]
    }
   ],
   "source": [
    "print(data[\"images\"][0][\"file_name\"])\n",
    "filename, _ = data[\"images\"][0][\"file_name\"].split(\".\")\n",
    "saved_folder = os.getcwd()+\"/labels\"\n",
    "if not os.path.exists(saved_folder):\n",
    "    os.mkdir(saved_folder)\n",
    "print(saved_folder)"
   ]
  },
  {
   "cell_type": "code",
   "execution_count": null,
   "id": "e15c9c62",
   "metadata": {},
   "outputs": [],
   "source": []
  },
  {
   "cell_type": "code",
   "execution_count": 16,
   "id": "8c69ea6a",
   "metadata": {},
   "outputs": [],
   "source": [
    "\n",
    "\n",
    "for key,value in tl_folders.items():\n",
    "    path = root+f\"/{key}/{value}\"\n",
    "    for json_file in glob(path+\"/*.json\"):\n",
    "\n",
    "        with open(json_file, \"rb\") as f:\n",
    "            data = json.load(f)\n",
    "        \n",
    "        code = data[\"images\"][0][\"item_seq\"]\n",
    "        \n",
    "        idx = df[df[\"item_seq\"] == code][\"idx\"].iloc[0]\n",
    "        image_height = data[\"images\"][0][\"height\"]\n",
    "        image_width = data[\"images\"][0][\"width\"]\n",
    "        x,y,w,h = data[\"annotations\"][0][\"bbox\"]\n",
    "        \n",
    "        center_x, center_y, normalized_w, normalized_h = convert_to_yolo(x,y,w,h,width,height)\n",
    "        \n",
    "#         print(idx, center_x, center_y, normalized_w, normalized_h)\n",
    "        filename, _ = data[\"images\"][0][\"file_name\"].split(\".\")\n",
    "        saved_path = saved_folder +f\"/{filename}.txt\"\n",
    "        with open(saved_path, \"w\") as f:\n",
    "            f.write(str(idx)+\" \")\n",
    "            f.write(str(center_x)+\" \")\n",
    "            f.write(str(center_y)+\" \")\n",
    "            f.write(str(normalized_w)+\" \")\n",
    "            f.write(str(normalized_h))\n",
    "            "
   ]
  },
  {
   "cell_type": "code",
   "execution_count": null,
   "id": "ee645f80",
   "metadata": {},
   "outputs": [],
   "source": []
  }
 ],
 "metadata": {
  "kernelspec": {
   "display_name": "torch",
   "language": "python",
   "name": "torch"
  },
  "language_info": {
   "codemirror_mode": {
    "name": "ipython",
    "version": 3
   },
   "file_extension": ".py",
   "mimetype": "text/x-python",
   "name": "python",
   "nbconvert_exporter": "python",
   "pygments_lexer": "ipython3",
   "version": "3.9.18"
  }
 },
 "nbformat": 4,
 "nbformat_minor": 5
}
