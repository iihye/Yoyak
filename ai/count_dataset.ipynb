{
 "cells": [
  {
   "cell_type": "code",
   "execution_count": 35,
   "id": "4e00989a",
   "metadata": {},
   "outputs": [],
   "source": [
    "from glob import glob\n",
    "import os"
   ]
  },
  {
   "cell_type": "code",
   "execution_count": null,
   "id": "3d39c39a",
   "metadata": {},
   "outputs": [],
   "source": []
  },
  {
   "cell_type": "markdown",
   "id": "802c2e81",
   "metadata": {},
   "source": [
    "# NO Augmentation train_set count"
   ]
  },
  {
   "cell_type": "code",
   "execution_count": 36,
   "id": "703ccbfb",
   "metadata": {},
   "outputs": [],
   "source": [
    "dataset_path = \"/home/j-j10b102/no_augmentation_datasets\""
   ]
  },
  {
   "cell_type": "markdown",
   "id": "a9f15c4f",
   "metadata": {},
   "source": [
    "## image"
   ]
  },
  {
   "cell_type": "code",
   "execution_count": 37,
   "id": "4afd9760",
   "metadata": {},
   "outputs": [
    {
     "data": {
      "text/plain": [
       "4005"
      ]
     },
     "execution_count": 37,
     "metadata": {},
     "output_type": "execute_result"
    }
   ],
   "source": [
    "len(glob(dataset_path+\"/images/train/*.png\"))"
   ]
  },
  {
   "cell_type": "markdown",
   "id": "25bf24de",
   "metadata": {},
   "source": [
    "## label"
   ]
  },
  {
   "cell_type": "code",
   "execution_count": 38,
   "id": "c3b2eb88",
   "metadata": {},
   "outputs": [
    {
     "data": {
      "text/plain": [
       "4005"
      ]
     },
     "execution_count": 38,
     "metadata": {},
     "output_type": "execute_result"
    }
   ],
   "source": [
    "len(glob(dataset_path+\"/labels/train/*.txt\"))"
   ]
  },
  {
   "cell_type": "markdown",
   "id": "fffe89b8",
   "metadata": {},
   "source": [
    "# validation_set count"
   ]
  },
  {
   "cell_type": "code",
   "execution_count": 39,
   "id": "fa74e735",
   "metadata": {},
   "outputs": [
    {
     "data": {
      "text/plain": [
       "1719"
      ]
     },
     "execution_count": 39,
     "metadata": {},
     "output_type": "execute_result"
    }
   ],
   "source": [
    "len(glob(dataset_path+\"/images/val/*.png\"))"
   ]
  },
  {
   "cell_type": "code",
   "execution_count": 40,
   "id": "86a93eef",
   "metadata": {},
   "outputs": [
    {
     "data": {
      "text/plain": [
       "1719"
      ]
     },
     "execution_count": 40,
     "metadata": {},
     "output_type": "execute_result"
    }
   ],
   "source": [
    "len(glob(dataset_path+\"/labels/val/*.txt\"))"
   ]
  },
  {
   "cell_type": "markdown",
   "id": "2ec1cf90",
   "metadata": {},
   "source": [
    "# Augmentation train_set count"
   ]
  },
  {
   "cell_type": "code",
   "execution_count": 47,
   "id": "3fb1d4cc",
   "metadata": {},
   "outputs": [],
   "source": [
    "dataset_path = \"/home/j-j10b102/augmentation_datasets\""
   ]
  },
  {
   "cell_type": "markdown",
   "id": "ae7ea9b6",
   "metadata": {},
   "source": [
    "## image"
   ]
  },
  {
   "cell_type": "code",
   "execution_count": 48,
   "id": "5237aeec",
   "metadata": {},
   "outputs": [
    {
     "data": {
      "text/plain": [
       "4005"
      ]
     },
     "execution_count": 48,
     "metadata": {},
     "output_type": "execute_result"
    }
   ],
   "source": [
    "len(glob(dataset_path+\"/images/train/*.png\"))"
   ]
  },
  {
   "cell_type": "markdown",
   "id": "5c17e38f",
   "metadata": {},
   "source": [
    "## label"
   ]
  },
  {
   "cell_type": "code",
   "execution_count": 49,
   "id": "bb4415df",
   "metadata": {},
   "outputs": [
    {
     "data": {
      "text/plain": [
       "4005"
      ]
     },
     "execution_count": 49,
     "metadata": {},
     "output_type": "execute_result"
    }
   ],
   "source": [
    "len(glob(dataset_path+\"/labels/train/*.txt\"))"
   ]
  },
  {
   "cell_type": "markdown",
   "id": "6188bbca",
   "metadata": {},
   "source": [
    "# validation_set count"
   ]
  },
  {
   "cell_type": "code",
   "execution_count": 55,
   "id": "97611a53",
   "metadata": {},
   "outputs": [
    {
     "name": "stdout",
     "output_type": "stream",
     "text": [
      "3438\n",
      "3438\n"
     ]
    }
   ],
   "source": [
    "print(len(glob(dataset_path+\"/images/val/*.png\")))\n",
    "print(len(glob(dataset_path+\"/labels/val/*.txt\")))"
   ]
  },
  {
   "cell_type": "markdown",
   "id": "04d948ea",
   "metadata": {},
   "source": [
    "---"
   ]
  },
  {
   "cell_type": "code",
   "execution_count": 56,
   "id": "6efd9df8",
   "metadata": {},
   "outputs": [],
   "source": [
    "dataset_path = \"/home/j-j10b102/datasets\""
   ]
  },
  {
   "cell_type": "code",
   "execution_count": 57,
   "id": "397ed1bd",
   "metadata": {},
   "outputs": [
    {
     "data": {
      "text/plain": [
       "11448"
      ]
     },
     "execution_count": 57,
     "metadata": {},
     "output_type": "execute_result"
    }
   ],
   "source": [
    "len(glob(dataset_path+\"/images/train/*.png\"))"
   ]
  },
  {
   "cell_type": "code",
   "execution_count": null,
   "id": "e9b68d77",
   "metadata": {},
   "outputs": [],
   "source": []
  }
 ],
 "metadata": {
  "kernelspec": {
   "display_name": "torch",
   "language": "python",
   "name": "torch"
  },
  "language_info": {
   "codemirror_mode": {
    "name": "ipython",
    "version": 3
   },
   "file_extension": ".py",
   "mimetype": "text/x-python",
   "name": "python",
   "nbconvert_exporter": "python",
   "pygments_lexer": "ipython3",
   "version": "3.9.18"
  }
 },
 "nbformat": 4,
 "nbformat_minor": 5
}
